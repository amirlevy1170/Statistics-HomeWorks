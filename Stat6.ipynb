{
  "nbformat": 4,
  "nbformat_minor": 0,
  "metadata": {
    "colab": {
      "provenance": [],
      "authorship_tag": "ABX9TyNJwomQfW196Q7Sltx0SkiF",
      "include_colab_link": true
    },
    "kernelspec": {
      "name": "python3",
      "display_name": "Python 3"
    },
    "language_info": {
      "name": "python"
    }
  },
  "cells": [
    {
      "cell_type": "markdown",
      "metadata": {
        "id": "view-in-github",
        "colab_type": "text"
      },
      "source": [
        "<a href=\"https://colab.research.google.com/github/amirlevy1170/Statistics-HomeWorks/blob/main/Stat6.ipynb\" target=\"_parent\"><img src=\"https://colab.research.google.com/assets/colab-badge.svg\" alt=\"Open In Colab\"/></a>"
      ]
    },
    {
      "cell_type": "markdown",
      "source": [
        "The code first imports the required libraries, including matplotlib, numpy, scipy, and sklearn. It then proceeds to generate 10,000 random arrays, each of length 10, from an exponential distribution."
      ],
      "metadata": {
        "id": "Pc7Jl8ZOhBeP"
      }
    },
    {
      "cell_type": "code",
      "execution_count": 2,
      "metadata": {
        "id": "y1u_tMUveLIK"
      },
      "outputs": [],
      "source": [
        "import math\n",
        "\n",
        "import matplotlib.pyplot as plt\n",
        "import numpy as np\n",
        "import scipy\n",
        "import scipy.stats as scp\n",
        "import pandas as pd\n",
        "from sklearn import linear_model\n",
        "import sklearn.metrics as skl\n",
        "import seaborn"
      ]
    },
    {
      "cell_type": "markdown",
      "source": [
        "For each array, the code calculates two estimators for the distribution constant, theta. theta_2, is obtained by taking the natural logarithm of 2 divided by the median of the array. theta_1, is calculated as 1 divided by the mean of the array.\n",
        "\n"
      ],
      "metadata": {
        "id": "bn-oN29xhQVc"
      }
    },
    {
      "cell_type": "code",
      "source": [
        "K = 10 ** 4\n",
        "theta_1 = []\n",
        "theta_2 = []\n",
        "for i in range(K):\n",
        "    x = np.array(scp.expon.rvs(scale=1, size=10))\n",
        "    theta_1.append(1/np.mean(x))\n",
        "    theta_2.append(math.log(2, math.e)/np.median(x))"
      ],
      "metadata": {
        "id": "KZh406zrev2A"
      },
      "execution_count": 3,
      "outputs": []
    },
    {
      "cell_type": "code",
      "source": [
        "arr2 = [1] * K\n",
        "mse_theta_1 = skl.mean_squared_error(arr2, theta_1)\n",
        "mse_theta_2 = skl.mean_squared_error(arr2, theta_2)\n",
        "print(\"MSE_Theta_1 is\", mse_theta_1)\n",
        "print(\"MSE_Theta_2 is\", mse_theta_2)"
      ],
      "metadata": {
        "colab": {
          "base_uri": "https://localhost:8080/"
        },
        "id": "6G9WyxGzev4K",
        "outputId": "9f830a6a-1b8c-4209-d2c8-f78c821b21e1"
      },
      "execution_count": 4,
      "outputs": [
        {
          "output_type": "stream",
          "name": "stdout",
          "text": [
            "MSE_Theta_1 is 0.16250379849022484\n",
            "MSE_Theta_2 is 0.3083634015834808\n"
          ]
        }
      ]
    },
    {
      "cell_type": "markdown",
      "source": [
        "After obtaining the estimators for each array, the code proceeds to plot the histogram using matplotlib's kdeplot. This plot visualizes the performance of the two estimators, theta_1 and theta_2, by showing the density of their values across the generated arrays.\n",
        "\n",
        "By analyzing the resulting histogram, you can gain insights into how well the estimators perform in estimating the distribution constant (theta) for the given exponential distribution."
      ],
      "metadata": {
        "id": "iRCyYSf9hfUD"
      }
    },
    {
      "cell_type": "code",
      "source": [
        "seaborn.kdeplot(theta_1, color=\"red\")\n",
        "seaborn.kdeplot(theta_2, color=\"blue\")\n",
        "plt.axvline(1, 0, 1.6, color=\"green\")\n",
        "plt.show()"
      ],
      "metadata": {
        "colab": {
          "base_uri": "https://localhost:8080/",
          "height": 430
        },
        "id": "iP61VOE7ev6r",
        "outputId": "48763147-5f94-45e2-c778-b590595eb8dc"
      },
      "execution_count": 5,
      "outputs": [
        {
          "output_type": "display_data",
          "data": {
            "text/plain": [
              "<Figure size 640x480 with 1 Axes>"
            ],
            "image/png": "[encoded data removed]"
          },
          "metadata": {}
        }
      ]
    },
    {
      "cell_type": "code",
      "source": [
        "# for theta 1\n",
        "theta_1 = []\n",
        "for i in range(K):\n",
        "    x = np.array(scp.expon.rvs(scale=1, size=20))\n",
        "    theta_1.append(1/np.mean(x))\n",
        "print(\"E of theta 1 is: \", np.mean(theta_1))\n",
        "print(\"Var of theta 1 is: \", np.var(theta_1))"
      ],
      "metadata": {
        "colab": {
          "base_uri": "https://localhost:8080/"
        },
        "id": "ImKjwV9Kev9y",
        "outputId": "e6405743-b340-4644-968e-171d52820436"
      },
      "execution_count": 6,
      "outputs": [
        {
          "output_type": "stream",
          "name": "stdout",
          "text": [
            "E of theta 1 is:  1.051347545221794\n",
            "Var of theta 1 is:  0.06168509943533106\n"
          ]
        }
      ]
    },
    {
      "cell_type": "code",
      "source": [
        "K = 10 ** 4\n",
        "theta_1 = []\n",
        "theta_2 = []\n",
        "for i in range(K):\n",
        "    x1 = np.array(scp.expon.rvs(scale=1, size=20))\n",
        "    x2 = np.array(scp.poisson.rvs(1, size=20))\n",
        "    theta_1.append(1 / np.mean(x1))\n",
        "    theta_2.append(np.mean(x2))"
      ],
      "metadata": {
        "id": "Z9yq9_x5ewB9"
      },
      "execution_count": 7,
      "outputs": []
    },
    {
      "cell_type": "code",
      "source": [
        "arr2 = [1] * K\n",
        "mse_theta_1 = skl.mean_squared_error(arr2, theta_1)\n",
        "mse_theta_2 = skl.mean_squared_error(arr2, theta_2)\n",
        "print(np.mean(theta_1))\n",
        "print(np.mean(theta_2))"
      ],
      "metadata": {
        "colab": {
          "base_uri": "https://localhost:8080/"
        },
        "id": "60Dy6h4IhAXZ",
        "outputId": "1090d6e6-7cb1-4682-ab19-d21aad17b4ed"
      },
      "execution_count": 8,
      "outputs": [
        {
          "output_type": "stream",
          "name": "stdout",
          "text": [
            "1.0525090996125555\n",
            "0.998975\n"
          ]
        }
      ]
    },
    {
      "cell_type": "markdown",
      "source": [
        "Overall, this code provides a way to randomly generate arrays from an exponential distribution, calculate estimators for the distribution constant, and visualize their performance using kdeplot in matplotlib."
      ],
      "metadata": {
        "id": "pecNFiDahi5E"
      }
    }
  ]
}