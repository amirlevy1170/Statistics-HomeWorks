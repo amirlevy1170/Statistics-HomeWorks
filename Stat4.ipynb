{
  "nbformat": 4,
  "nbformat_minor": 0,
  "metadata": {
    "colab": {
      "provenance": [],
      "mount_file_id": "1H-5MAu5uu-_7z4gEb8Blo3fQo_CbeYdM",
      "authorship_tag": "ABX9TyNOgsm23+jAHrSHXnsFlt+P",
      "include_colab_link": true
    },
    "kernelspec": {
      "name": "python3",
      "display_name": "Python 3"
    },
    "language_info": {
      "name": "python"
    }
  },
  "cells": [
    {
      "cell_type": "markdown",
      "metadata": {
        "id": "view-in-github",
        "colab_type": "text"
      },
      "source": [
        "<a href=\"https://colab.research.google.com/github/amirlevy1170/Statistics-HomeWorks/blob/main/Stat4.ipynb\" target=\"_parent\"><img src=\"https://colab.research.google.com/assets/colab-badge.svg\" alt=\"Open In Colab\"/></a>"
      ]
    },
    {
      "cell_type": "markdown",
      "source": [
        "The code first imports the necessary libraries, such as pandas for reading the CSV file and matplotlib for creating the graph. It then reads the CSV file and stores the height and weight data into separate arrays or lists.\n",
        "\n"
      ],
      "metadata": {
        "id": "y0geI_x1Yiqt"
      }
    },
    {
      "cell_type": "code",
      "source": [
        "import math\n",
        "\n",
        "import matplotlib.pyplot as plt\n",
        "import numpy as np\n",
        "import scipy.stats as scp\n",
        "import pandas as pd\n",
        "from sklearn import linear_model"
      ],
      "metadata": {
        "id": "ktIxTGnkYRdW"
      },
      "execution_count": 22,
      "outputs": []
    },
    {
      "cell_type": "code",
      "execution_count": 23,
      "metadata": {
        "id": "4tDLjfPO-LeE"
      },
      "outputs": [],
      "source": [
        "path = \"/content/drive/MyDrive/statFiles/heights.csv\"\n",
        "df = pd.read_csv(path)\n",
        "\n",
        "def makeGoodArray(arr):\n",
        "    z = np.array([])\n",
        "    for i in range(len(arr)):\n",
        "        z = np.append(z, arr[i][0])\n",
        "    return z"
      ]
    },
    {
      "cell_type": "code",
      "source": [
        "x = np.array(df.get([\"HEIGHT\"]))\n",
        "y = np.array(df.get([\"WEIGHT\"]))\n",
        "oldx = x\n",
        "oldy= y\n",
        "height = pd.DataFrame(df['HEIGHT'])\n",
        "weight = pd.DataFrame(df['WEIGHT'])"
      ],
      "metadata": {
        "id": "u_KCiTec-N4G"
      },
      "execution_count": 24,
      "outputs": []
    },
    {
      "cell_type": "markdown",
      "source": [
        "Next, it calculates the coefficients for the least squares line, which represents the best-fit line for the given data. This line minimizes the sum of the squared differences between the predicted values and the actual data points.\n",
        "\n",
        "Using the coefficients obtained from the least squares line, the code calculates the regression line, which represents the expected relationship between height and weight.\n",
        "\n"
      ],
      "metadata": {
        "id": "cfm3bANAYF2j"
      }
    },
    {
      "cell_type": "code",
      "source": [
        "lm = linear_model.LinearRegression()\n",
        "model = lm.fit(height, weight)\n",
        "\n",
        "x = makeGoodArray(x)\n",
        "y = makeGoodArray(y)\n",
        "b = (np.percentile(y, (1 / 6) * 100) - np.percentile(y, (5 / 6) * 100)) / (\n",
        "        np.percentile(x, (1 / 6) * 100) - np.percentile(x, (5 / 6) * 100))"
      ],
      "metadata": {
        "id": "39PmUg5vYEbi"
      },
      "execution_count": 25,
      "outputs": []
    },
    {
      "cell_type": "code",
      "source": [
        "r = []\n",
        "for i in range(len(x)):\n",
        "    r.append(y[i] - b * x[i])\n"
      ],
      "metadata": {
        "id": "t14iTTPpYEeE"
      },
      "execution_count": 26,
      "outputs": []
    },
    {
      "cell_type": "code",
      "source": [
        "r_i = np.array(r)\n",
        "a = np.percentile(r_i, (1 / 2) * 100)\n",
        "ys = b * x + a"
      ],
      "metadata": {
        "id": "_Vs3qGChYVCm"
      },
      "execution_count": 28,
      "outputs": []
    },
    {
      "cell_type": "markdown",
      "source": [
        "Finally, the code uses matplotlib to create a scatter plot, where each data point represents a combination of height and weight. It also plots the least squares line and the regression line on the same graph for visual representation."
      ],
      "metadata": {
        "id": "-1H6Iuz9aEBS"
      }
    },
    {
      "cell_type": "code",
      "source": [
        "plt.plot(x, ys, '-r', )\n",
        "plt.plot(height, model.predict(height), color='blue')\n",
        "plt.scatter(oldx, oldy)\n",
        "plt.xlabel('x', color='red')\n",
        "plt.ylabel('y', color='red')\n",
        "plt.ylim(top=85)\n",
        "plt.ylim(bottom=55)\n",
        "plt.grid()\n",
        "plt.show()"
      ],
      "metadata": {
        "colab": {
          "base_uri": "https://localhost:8080/",
          "height": 455
        },
        "id": "5H6QGqtQYdDk",
        "outputId": "c738e881-f0c3-4786-cab5-7a2d84e37c0a"
      },
      "execution_count": 29,
      "outputs": [
        {
          "output_type": "display_data",
          "data": {
            "text/plain": [
              "<Figure size 640x480 with 1 Axes>"
            ],
            "image/png": "[encoded data removed]"
          },
          "metadata": {}
        }
      ]
    },
    {
      "cell_type": "code",
      "source": [
        "r = model.score(height,weight)\n",
        "\n",
        "print(\"b is \", model.coef_[0][0])\n",
        "print(\"R is \", np.corrcoef(x,y)[0][1])\n",
        "print(\"cov percent is :\", r * 100)"
      ],
      "metadata": {
        "colab": {
          "base_uri": "https://localhost:8080/"
        },
        "id": "WcNUVANKYexn",
        "outputId": "479998c9-364d-4b26-a8b2-a428bb5a09f0"
      },
      "execution_count": 30,
      "outputs": [
        {
          "output_type": "stream",
          "name": "stdout",
          "text": [
            "b is  0.07165444334473373\n",
            "R is  0.5857442860266672\n",
            "cov percent is : 34.30963686128905\n"
          ]
        }
      ]
    },
    {
      "cell_type": "markdown",
      "source": [
        "\n",
        "Overall, this code allows you to analyze and visualize the relationship between height and weight using the given CSV data."
      ],
      "metadata": {
        "id": "SIQz2tAlaI8C"
      }
    }
  ]
}