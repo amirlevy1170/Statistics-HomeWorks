{
  "nbformat": 4,
  "nbformat_minor": 0,
  "metadata": {
    "colab": {
      "provenance": [],
      "authorship_tag": "ABX9TyOpG/75tlWNy4BN8yQUOQCW",
      "include_colab_link": true
    },
    "kernelspec": {
      "name": "python3",
      "display_name": "Python 3"
    },
    "language_info": {
      "name": "python"
    }
  },
  "cells": [
    {
      "cell_type": "markdown",
      "metadata": {
        "id": "view-in-github",
        "colab_type": "text"
      },
      "source": [
        "<a href=\"https://colab.research.google.com/github/amirlevy1170/Statistics-HomeWorks/blob/main/Stat7.ipynb\" target=\"_parent\"><img src=\"https://colab.research.google.com/assets/colab-badge.svg\" alt=\"Open In Colab\"/></a>"
      ]
    },
    {
      "cell_type": "code",
      "execution_count": 1,
      "metadata": {
        "id": "xTuKtub1ioOf"
      },
      "outputs": [],
      "source": [
        "import numpy as np\n",
        "import scipy.stats as scp\n"
      ]
    },
    {
      "cell_type": "markdown",
      "source": [
        "The code begins by importing the necessary libraries, such as numpy and scipy.stats. It then proceeds to generate 10,000 random arrays of size 30 using scp.norm.rvs function, which samples values from a normal distribution."
      ],
      "metadata": {
        "id": "Ac2JeZ9-i5x6"
      }
    },
    {
      "cell_type": "code",
      "source": [
        "alpha_arr = [0.05, 0.1, 0.2]\n",
        "K = 10 ** 4\n",
        "n = 30"
      ],
      "metadata": {
        "id": "KHX6ab6giy6r"
      },
      "execution_count": 2,
      "outputs": []
    },
    {
      "cell_type": "markdown",
      "source": [
        "For each alpha value in the set {0.05, 0.1, 0.2}, the code calculates the confidence interval.\n",
        "\n",
        "Next, the code calculates the mean size of the confidence interval by averaging the differences between the upper and lower bounds across all generated arrays.\n",
        "\n",
        "To determine the probability that 175 is within the confidence interval, the code checks for each array whether the lower bound is less than or equal to 175 and the upper bound is greater than or equal to 175. It keeps track of the count of arrays satisfying this condition and divides it by the total number of arrays to obtain the probability.\n",
        "\n",
        "Similarly, to calculate the probability that another random number is within the confidence interval, the code randomly selects a number from the normal distribution and checks for each array whether the lower bound is less than or equal to the selected number and the upper bound is greater than or equal to the selected number. It then calculates the count of arrays satisfying this condition and divides it by the total number of arrays."
      ],
      "metadata": {
        "id": "h3rWA6Boj_F2"
      }
    },
    {
      "cell_type": "code",
      "source": [
        "for alpha in alpha_arr:\n",
        "    count = 0\n",
        "    d = []\n",
        "    p = 0\n",
        "    for i in range(K):\n",
        "        x = np.array(scp.norm.rvs(loc=175, scale=10, size=n))\n",
        "        mu_tag = x.mean()\n",
        "        eps = (10 * scp.norm.ppf(1 - (alpha / 2)))/(n ** 0.5)\n",
        "        L = mu_tag - eps\n",
        "        U = mu_tag + eps\n",
        "        d.append(U - L)\n",
        "        if L < 175 and 175 < U:\n",
        "            count += 1\n",
        "        p += scp.norm(loc=175, scale=10).cdf(U) - scp.norm(loc=175, scale=10).cdf(L)\n",
        "    d_arr = np.array(d)\n",
        "    print(\"for alpha: \", alpha)\n",
        "    print(\"size confidence interval is: \", d_arr.mean())\n",
        "    print(\"scale  is: \", d_arr.var()**0.5)\n",
        "    print(\"probability that 175 is in [L,U] is: \", count/K)\n",
        "    print(\"probability that another random vector is in [L,U] is: \", p/K)"
      ],
      "metadata": {
        "colab": {
          "base_uri": "https://localhost:8080/"
        },
        "id": "lcVgXGJLizFw",
        "outputId": "7bc92b92-c285-43c7-cf4c-aa8dabc3b99e"
      },
      "execution_count": 3,
      "outputs": [
        {
          "output_type": "stream",
          "name": "stdout",
          "text": [
            "for alpha:  0.05\n",
            "size confidence interval is:  7.156776574868616\n",
            "scale  is:  0.0\n",
            "probability that 175 is in [L,U] is:  0.9496\n",
            "probability that another random vector is in [L,U] is:  0.27520566471101937\n",
            "for alpha:  0.1\n",
            "size confidence interval is:  6.006156235170067\n",
            "scale  is:  0.0\n",
            "probability that 175 is in [L,U] is:  0.9008\n",
            "probability that another random vector is in [L,U] is:  0.2323822447986843\n",
            "for alpha:  0.2\n",
            "size confidence interval is:  4.679564673698906\n",
            "scale  is:  0.0\n",
            "probability that 175 is in [L,U] is:  0.802\n",
            "probability that another random vector is in [L,U] is:  0.1820516604639785\n"
          ]
        }
      ]
    },
    {
      "cell_type": "markdown",
      "source": [
        "By running this code, you can obtain the mean size of the confidence interval, the probability that 175 is within the interval, and the probability that another random number is within the interval for each alpha value in the set.\n",
        "\n",
        "Overall, this code provides a way to generate random arrays from a normal distribution, calculate confidence intervals, and evaluate various probabilities associated with these intervals."
      ],
      "metadata": {
        "id": "6uAhO3REkUib"
      }
    }
  ]
}